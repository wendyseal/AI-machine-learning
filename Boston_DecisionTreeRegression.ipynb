{
  "nbformat": 4,
  "nbformat_minor": 0,
  "metadata": {
    "colab": {
      "name": "Boston-DecisionTreeRegression.ipynb",
      "provenance": [],
      "collapsed_sections": [],
      "authorship_tag": "ABX9TyMBuW6JJoNMB+EI3+KWvKp8",
      "include_colab_link": true
    },
    "kernelspec": {
      "name": "python3",
      "display_name": "Python 3"
    },
    "accelerator": "GPU"
  },
  "cells": [
    {
      "cell_type": "markdown",
      "metadata": {
        "id": "view-in-github",
        "colab_type": "text"
      },
      "source": [
        "<a href=\"https://colab.research.google.com/github/wendyseal/AI-machine-learning/blob/main/Boston_DecisionTreeRegression.ipynb\" target=\"_parent\"><img src=\"https://colab.research.google.com/assets/colab-badge.svg\" alt=\"Open In Colab\"/></a>"
      ]
    },
    {
      "cell_type": "markdown",
      "metadata": {
        "id": "3rBScByZrvcl"
      },
      "source": [
        "CRIM：人均犯罪率\n",
        "\n",
        "ZN：25,000平方英尺以上民用土地的比例\n",
        "\n",
        "INDUS：城镇非零售业商用土地比例\n",
        "\n",
        "CHAS：是否邻近查尔斯河，1是邻近，0是不邻近\n",
        "\n",
        "NOX：一氧化氮浓度（千万分之一）\n",
        "\n",
        "RM：住宅的平均房间数\n",
        "\n",
        "AGE：自住且建于1940年前的房屋比例\n",
        "\n",
        "DIS：到5个波士顿就业中心的加权距离\n",
        "\n",
        "RAD：到高速公路的便捷度指数\n",
        "\n",
        "TAX：每万元的房产税率\n",
        "\n",
        "PTRATIO：城镇学生教师比例\n",
        "\n",
        "B： 1000(Bk − 0.63)2 其中Bk是城镇中黑人比例\n",
        "\n",
        "LSTAT：低收入人群比例\n",
        "\n",
        "ans：自住房中位数价格，单位是千元 "
      ]
    },
    {
      "cell_type": "markdown",
      "metadata": {
        "id": "SwAUAiK1wJEv"
      },
      "source": [
        "看模型表現$ r^2 $，來回頭調整參數。\n",
        "\n",
        "\n",
        "MSE=和平均的平均距離\n",
        "\n",
        "範例：\n",
        "$MSE=\\dfrac{1}{2}[(30-20)^2+(10-20)^2]$\n",
        "\n",
        "\n",
        "$ r^2 = 1-\\dfrac{a}{b}$ <br /> \n",
        "(0.5以上預估的還不錯)\n",
        "\n",
        "$\\dfrac{a}{b}=$ $\\dfrac{認真猜}{瞎猜}$\n",
        "\n",
        "0 a=0 準<br />\n",
        "1 a=b 每一個平均值都跟預估值一樣 (瞎猜)<br />\n",
        "\n",
        "認真猜：每一個預估值，與正確值的差距。<br />\n",
        "瞎猜：如果每一個預估值都當成平均值，與正確值的差距(準度)。\n",
        "\n",
        "\n",
        "\n",
        "\n",
        "$MSE=\\dfrac{1}{n}[(預測值-正確值)^2]$ \n",
        "對錯誤給較大的懲罰\n",
        "\n",
        "$RMSE= \\sqrt{\\dfrac{1}{n}[(預測值-正確值)^2]} $\n",
        "\n",
        "$MAE=\\dfrac{1}{n}\\left| 預測值-正確值\\right| $\n",
        "\n"
      ]
    },
    {
      "cell_type": "code",
      "metadata": {
        "id": "wpUBT1FMcn7U",
        "outputId": "da85a95e-732a-4b3f-c784-9f208179fc9d",
        "colab": {
          "base_uri": "https://localhost:8080/",
          "height": 419
        }
      },
      "source": [
        "import pandas as pd\n",
        "from sklearn.datasets import load_boston\n",
        "boston = load_boston()\n",
        "df = pd.DataFrame(boston[\"data\"], \n",
        "                  columns=boston[\"feature_names\"])\n",
        "df[\"answer\"] = boston[\"target\"]\n",
        "# df.to_csv(\"boston.csv\", encoding=\"utf8\", index=False)\n",
        "df"
      ],
      "execution_count": null,
      "outputs": [
        {
          "output_type": "execute_result",
          "data": {
            "text/html": [
              "<div>\n",
              "<style scoped>\n",
              "    .dataframe tbody tr th:only-of-type {\n",
              "        vertical-align: middle;\n",
              "    }\n",
              "\n",
              "    .dataframe tbody tr th {\n",
              "        vertical-align: top;\n",
              "    }\n",
              "\n",
              "    .dataframe thead th {\n",
              "        text-align: right;\n",
              "    }\n",
              "</style>\n",
              "<table border=\"1\" class=\"dataframe\">\n",
              "  <thead>\n",
              "    <tr style=\"text-align: right;\">\n",
              "      <th></th>\n",
              "      <th>CRIM</th>\n",
              "      <th>ZN</th>\n",
              "      <th>INDUS</th>\n",
              "      <th>CHAS</th>\n",
              "      <th>NOX</th>\n",
              "      <th>RM</th>\n",
              "      <th>AGE</th>\n",
              "      <th>DIS</th>\n",
              "      <th>RAD</th>\n",
              "      <th>TAX</th>\n",
              "      <th>PTRATIO</th>\n",
              "      <th>B</th>\n",
              "      <th>LSTAT</th>\n",
              "      <th>answer</th>\n",
              "    </tr>\n",
              "  </thead>\n",
              "  <tbody>\n",
              "    <tr>\n",
              "      <th>0</th>\n",
              "      <td>0.00632</td>\n",
              "      <td>18.0</td>\n",
              "      <td>2.31</td>\n",
              "      <td>0.0</td>\n",
              "      <td>0.538</td>\n",
              "      <td>6.575</td>\n",
              "      <td>65.2</td>\n",
              "      <td>4.0900</td>\n",
              "      <td>1.0</td>\n",
              "      <td>296.0</td>\n",
              "      <td>15.3</td>\n",
              "      <td>396.90</td>\n",
              "      <td>4.98</td>\n",
              "      <td>24.0</td>\n",
              "    </tr>\n",
              "    <tr>\n",
              "      <th>1</th>\n",
              "      <td>0.02731</td>\n",
              "      <td>0.0</td>\n",
              "      <td>7.07</td>\n",
              "      <td>0.0</td>\n",
              "      <td>0.469</td>\n",
              "      <td>6.421</td>\n",
              "      <td>78.9</td>\n",
              "      <td>4.9671</td>\n",
              "      <td>2.0</td>\n",
              "      <td>242.0</td>\n",
              "      <td>17.8</td>\n",
              "      <td>396.90</td>\n",
              "      <td>9.14</td>\n",
              "      <td>21.6</td>\n",
              "    </tr>\n",
              "    <tr>\n",
              "      <th>2</th>\n",
              "      <td>0.02729</td>\n",
              "      <td>0.0</td>\n",
              "      <td>7.07</td>\n",
              "      <td>0.0</td>\n",
              "      <td>0.469</td>\n",
              "      <td>7.185</td>\n",
              "      <td>61.1</td>\n",
              "      <td>4.9671</td>\n",
              "      <td>2.0</td>\n",
              "      <td>242.0</td>\n",
              "      <td>17.8</td>\n",
              "      <td>392.83</td>\n",
              "      <td>4.03</td>\n",
              "      <td>34.7</td>\n",
              "    </tr>\n",
              "    <tr>\n",
              "      <th>3</th>\n",
              "      <td>0.03237</td>\n",
              "      <td>0.0</td>\n",
              "      <td>2.18</td>\n",
              "      <td>0.0</td>\n",
              "      <td>0.458</td>\n",
              "      <td>6.998</td>\n",
              "      <td>45.8</td>\n",
              "      <td>6.0622</td>\n",
              "      <td>3.0</td>\n",
              "      <td>222.0</td>\n",
              "      <td>18.7</td>\n",
              "      <td>394.63</td>\n",
              "      <td>2.94</td>\n",
              "      <td>33.4</td>\n",
              "    </tr>\n",
              "    <tr>\n",
              "      <th>4</th>\n",
              "      <td>0.06905</td>\n",
              "      <td>0.0</td>\n",
              "      <td>2.18</td>\n",
              "      <td>0.0</td>\n",
              "      <td>0.458</td>\n",
              "      <td>7.147</td>\n",
              "      <td>54.2</td>\n",
              "      <td>6.0622</td>\n",
              "      <td>3.0</td>\n",
              "      <td>222.0</td>\n",
              "      <td>18.7</td>\n",
              "      <td>396.90</td>\n",
              "      <td>5.33</td>\n",
              "      <td>36.2</td>\n",
              "    </tr>\n",
              "    <tr>\n",
              "      <th>...</th>\n",
              "      <td>...</td>\n",
              "      <td>...</td>\n",
              "      <td>...</td>\n",
              "      <td>...</td>\n",
              "      <td>...</td>\n",
              "      <td>...</td>\n",
              "      <td>...</td>\n",
              "      <td>...</td>\n",
              "      <td>...</td>\n",
              "      <td>...</td>\n",
              "      <td>...</td>\n",
              "      <td>...</td>\n",
              "      <td>...</td>\n",
              "      <td>...</td>\n",
              "    </tr>\n",
              "    <tr>\n",
              "      <th>501</th>\n",
              "      <td>0.06263</td>\n",
              "      <td>0.0</td>\n",
              "      <td>11.93</td>\n",
              "      <td>0.0</td>\n",
              "      <td>0.573</td>\n",
              "      <td>6.593</td>\n",
              "      <td>69.1</td>\n",
              "      <td>2.4786</td>\n",
              "      <td>1.0</td>\n",
              "      <td>273.0</td>\n",
              "      <td>21.0</td>\n",
              "      <td>391.99</td>\n",
              "      <td>9.67</td>\n",
              "      <td>22.4</td>\n",
              "    </tr>\n",
              "    <tr>\n",
              "      <th>502</th>\n",
              "      <td>0.04527</td>\n",
              "      <td>0.0</td>\n",
              "      <td>11.93</td>\n",
              "      <td>0.0</td>\n",
              "      <td>0.573</td>\n",
              "      <td>6.120</td>\n",
              "      <td>76.7</td>\n",
              "      <td>2.2875</td>\n",
              "      <td>1.0</td>\n",
              "      <td>273.0</td>\n",
              "      <td>21.0</td>\n",
              "      <td>396.90</td>\n",
              "      <td>9.08</td>\n",
              "      <td>20.6</td>\n",
              "    </tr>\n",
              "    <tr>\n",
              "      <th>503</th>\n",
              "      <td>0.06076</td>\n",
              "      <td>0.0</td>\n",
              "      <td>11.93</td>\n",
              "      <td>0.0</td>\n",
              "      <td>0.573</td>\n",
              "      <td>6.976</td>\n",
              "      <td>91.0</td>\n",
              "      <td>2.1675</td>\n",
              "      <td>1.0</td>\n",
              "      <td>273.0</td>\n",
              "      <td>21.0</td>\n",
              "      <td>396.90</td>\n",
              "      <td>5.64</td>\n",
              "      <td>23.9</td>\n",
              "    </tr>\n",
              "    <tr>\n",
              "      <th>504</th>\n",
              "      <td>0.10959</td>\n",
              "      <td>0.0</td>\n",
              "      <td>11.93</td>\n",
              "      <td>0.0</td>\n",
              "      <td>0.573</td>\n",
              "      <td>6.794</td>\n",
              "      <td>89.3</td>\n",
              "      <td>2.3889</td>\n",
              "      <td>1.0</td>\n",
              "      <td>273.0</td>\n",
              "      <td>21.0</td>\n",
              "      <td>393.45</td>\n",
              "      <td>6.48</td>\n",
              "      <td>22.0</td>\n",
              "    </tr>\n",
              "    <tr>\n",
              "      <th>505</th>\n",
              "      <td>0.04741</td>\n",
              "      <td>0.0</td>\n",
              "      <td>11.93</td>\n",
              "      <td>0.0</td>\n",
              "      <td>0.573</td>\n",
              "      <td>6.030</td>\n",
              "      <td>80.8</td>\n",
              "      <td>2.5050</td>\n",
              "      <td>1.0</td>\n",
              "      <td>273.0</td>\n",
              "      <td>21.0</td>\n",
              "      <td>396.90</td>\n",
              "      <td>7.88</td>\n",
              "      <td>11.9</td>\n",
              "    </tr>\n",
              "  </tbody>\n",
              "</table>\n",
              "<p>506 rows × 14 columns</p>\n",
              "</div>"
            ],
            "text/plain": [
              "        CRIM    ZN  INDUS  CHAS    NOX  ...    TAX  PTRATIO       B  LSTAT  answer\n",
              "0    0.00632  18.0   2.31   0.0  0.538  ...  296.0     15.3  396.90   4.98    24.0\n",
              "1    0.02731   0.0   7.07   0.0  0.469  ...  242.0     17.8  396.90   9.14    21.6\n",
              "2    0.02729   0.0   7.07   0.0  0.469  ...  242.0     17.8  392.83   4.03    34.7\n",
              "3    0.03237   0.0   2.18   0.0  0.458  ...  222.0     18.7  394.63   2.94    33.4\n",
              "4    0.06905   0.0   2.18   0.0  0.458  ...  222.0     18.7  396.90   5.33    36.2\n",
              "..       ...   ...    ...   ...    ...  ...    ...      ...     ...    ...     ...\n",
              "501  0.06263   0.0  11.93   0.0  0.573  ...  273.0     21.0  391.99   9.67    22.4\n",
              "502  0.04527   0.0  11.93   0.0  0.573  ...  273.0     21.0  396.90   9.08    20.6\n",
              "503  0.06076   0.0  11.93   0.0  0.573  ...  273.0     21.0  396.90   5.64    23.9\n",
              "504  0.10959   0.0  11.93   0.0  0.573  ...  273.0     21.0  393.45   6.48    22.0\n",
              "505  0.04741   0.0  11.93   0.0  0.573  ...  273.0     21.0  396.90   7.88    11.9\n",
              "\n",
              "[506 rows x 14 columns]"
            ]
          },
          "metadata": {
            "tags": []
          },
          "execution_count": 36
        }
      ]
    },
    {
      "cell_type": "code",
      "metadata": {
        "id": "nLtBBFBcP0zd"
      },
      "source": [
        "from sklearn.model_selection import train_test_split\n",
        "# train_test_split([1,2,3,4],\n",
        "#                  [5,6,7,8],\n",
        "#                  [9,10,11,12],\n",
        "#                  test_size=0.25)\n",
        "# train_test_split(boston[\"data\"],\n",
        "#                  boston[\"target\",]\n",
        "#                  test_size=0.1)\n",
        "\n",
        "x_train, x_test, y_train, y_test = train_test_split(boston[\"data\"],\n",
        "                                                    boston[\"target\"],\n",
        "                                                    test_size=0.1)"
      ],
      "execution_count": null,
      "outputs": []
    },
    {
      "cell_type": "code",
      "metadata": {
        "id": "7BV_7tSESls2",
        "outputId": "d2a483be-be8c-4b4d-e9cf-7ced4ad149ca",
        "colab": {
          "base_uri": "https://localhost:8080/",
          "height": 119
        }
      },
      "source": [
        "from sklearn.tree import DecisionTreeRegressor\n",
        "reg = DecisionTreeRegressor(max_depth=5, random_state=0)\n",
        "reg.fit(x_train, y_train)"
      ],
      "execution_count": null,
      "outputs": [
        {
          "output_type": "execute_result",
          "data": {
            "text/plain": [
              "DecisionTreeRegressor(ccp_alpha=0.0, criterion='mse', max_depth=5,\n",
              "                      max_features=None, max_leaf_nodes=None,\n",
              "                      min_impurity_decrease=0.0, min_impurity_split=None,\n",
              "                      min_samples_leaf=1, min_samples_split=2,\n",
              "                      min_weight_fraction_leaf=0.0, presort='deprecated',\n",
              "                      random_state=0, splitter='best')"
            ]
          },
          "metadata": {
            "tags": []
          },
          "execution_count": 38
        }
      ]
    },
    {
      "cell_type": "code",
      "metadata": {
        "id": "YQlIfsM2TsPZ",
        "outputId": "ef2912b5-eb40-4fba-b7b2-3ffa22a92dad",
        "colab": {
          "base_uri": "https://localhost:8080/",
          "height": 634
        }
      },
      "source": [
        "import graphviz\n",
        "from sklearn.tree import export_graphviz\n",
        "g = export_graphviz(reg, \n",
        "                    feature_names=boston[\"feature_names\"],\n",
        "                    filled=True,\n",
        "                    max_depth=3)\n",
        "graphviz.Source(g)"
      ],
      "execution_count": null,
      "outputs": [
        {
          "output_type": "execute_result",
          "data": {
            "text/plain": [
              "<graphviz.files.Source at 0x7f5b5396a9b0>"
            ],
            "image/svg+xml": "<?xml version=\"1.0\" encoding=\"UTF-8\" standalone=\"no\"?>\n<!DOCTYPE svg PUBLIC \"-//W3C//DTD SVG 1.1//EN\"\n \"http://www.w3.org/Graphics/SVG/1.1/DTD/svg11.dtd\">\n<!-- Generated by graphviz version 2.40.1 (20161225.0304)\n -->\n<!-- Title: Tree Pages: 1 -->\n<svg width=\"1070pt\" height=\"460pt\"\n viewBox=\"0.00 0.00 1069.50 460.00\" xmlns=\"http://www.w3.org/2000/svg\" xmlns:xlink=\"http://www.w3.org/1999/xlink\">\n<g id=\"graph0\" class=\"graph\" transform=\"scale(1 1) rotate(0) translate(4 456)\">\n<title>Tree</title>\n<polygon fill=\"#ffffff\" stroke=\"transparent\" points=\"-4,4 -4,-456 1065.5,-456 1065.5,4 -4,4\"/>\n<!-- 0 -->\n<g id=\"node1\" class=\"node\">\n<title>0</title>\n<polygon fill=\"#f7d7c0\" stroke=\"#000000\" points=\"618,-452 514,-452 514,-384 618,-384 618,-452\"/>\n<text text-anchor=\"middle\" x=\"566\" y=\"-436.8\" font-family=\"Times,serif\" font-size=\"14.00\" fill=\"#000000\">RM &lt;= 6.92</text>\n<text text-anchor=\"middle\" x=\"566\" y=\"-421.8\" font-family=\"Times,serif\" font-size=\"14.00\" fill=\"#000000\">mse = 87.558</text>\n<text text-anchor=\"middle\" x=\"566\" y=\"-406.8\" font-family=\"Times,serif\" font-size=\"14.00\" fill=\"#000000\">samples = 455</text>\n<text text-anchor=\"middle\" x=\"566\" y=\"-391.8\" font-family=\"Times,serif\" font-size=\"14.00\" fill=\"#000000\">value = 22.665</text>\n</g>\n<!-- 1 -->\n<g id=\"node2\" class=\"node\">\n<title>1</title>\n<polygon fill=\"#f9e0ce\" stroke=\"#000000\" points=\"494.5,-348 369.5,-348 369.5,-280 494.5,-280 494.5,-348\"/>\n<text text-anchor=\"middle\" x=\"432\" y=\"-332.8\" font-family=\"Times,serif\" font-size=\"14.00\" fill=\"#000000\">LSTAT &lt;= 14.405</text>\n<text text-anchor=\"middle\" x=\"432\" y=\"-317.8\" font-family=\"Times,serif\" font-size=\"14.00\" fill=\"#000000\">mse = 41.479</text>\n<text text-anchor=\"middle\" x=\"432\" y=\"-302.8\" font-family=\"Times,serif\" font-size=\"14.00\" fill=\"#000000\">samples = 384</text>\n<text text-anchor=\"middle\" x=\"432\" y=\"-287.8\" font-family=\"Times,serif\" font-size=\"14.00\" fill=\"#000000\">value = 19.943</text>\n</g>\n<!-- 0&#45;&gt;1 -->\n<g id=\"edge1\" class=\"edge\">\n<title>0&#45;&gt;1</title>\n<path fill=\"none\" stroke=\"#000000\" d=\"M522.1234,-383.9465C509.9765,-374.519 496.6738,-364.1946 484.1073,-354.4415\"/>\n<polygon fill=\"#000000\" stroke=\"#000000\" points=\"486.021,-351.4963 475.9752,-348.13 481.7291,-357.0262 486.021,-351.4963\"/>\n<text text-anchor=\"middle\" x=\"479.1017\" y=\"-369.2337\" font-family=\"Times,serif\" font-size=\"14.00\" fill=\"#000000\">True</text>\n</g>\n<!-- 28 -->\n<g id=\"node17\" class=\"node\">\n<title>28</title>\n<polygon fill=\"#eda977\" stroke=\"#000000\" points=\"745,-348 641,-348 641,-280 745,-280 745,-348\"/>\n<text text-anchor=\"middle\" x=\"693\" y=\"-332.8\" font-family=\"Times,serif\" font-size=\"14.00\" fill=\"#000000\">RM &lt;= 7.437</text>\n<text text-anchor=\"middle\" x=\"693\" y=\"-317.8\" font-family=\"Times,serif\" font-size=\"14.00\" fill=\"#000000\">mse = 80.05</text>\n<text text-anchor=\"middle\" x=\"693\" y=\"-302.8\" font-family=\"Times,serif\" font-size=\"14.00\" fill=\"#000000\">samples = 71</text>\n<text text-anchor=\"middle\" x=\"693\" y=\"-287.8\" font-family=\"Times,serif\" font-size=\"14.00\" fill=\"#000000\">value = 37.385</text>\n</g>\n<!-- 0&#45;&gt;28 -->\n<g id=\"edge16\" class=\"edge\">\n<title>0&#45;&gt;28</title>\n<path fill=\"none\" stroke=\"#000000\" d=\"M607.5845,-383.9465C618.9873,-374.6088 631.4647,-364.3911 643.2743,-354.7203\"/>\n<polygon fill=\"#000000\" stroke=\"#000000\" points=\"645.8026,-357.1736 651.322,-348.13 641.3676,-351.7578 645.8026,-357.1736\"/>\n<text text-anchor=\"middle\" x=\"648.8451\" y=\"-369.307\" font-family=\"Times,serif\" font-size=\"14.00\" fill=\"#000000\">False</text>\n</g>\n<!-- 2 -->\n<g id=\"node3\" class=\"node\">\n<title>2</title>\n<polygon fill=\"#f6d5bd\" stroke=\"#000000\" points=\"288,-244 184,-244 184,-176 288,-176 288,-244\"/>\n<text text-anchor=\"middle\" x=\"236\" y=\"-228.8\" font-family=\"Times,serif\" font-size=\"14.00\" fill=\"#000000\">DIS &lt;= 1.385</text>\n<text text-anchor=\"middle\" x=\"236\" y=\"-213.8\" font-family=\"Times,serif\" font-size=\"14.00\" fill=\"#000000\">mse = 27.209</text>\n<text text-anchor=\"middle\" x=\"236\" y=\"-198.8\" font-family=\"Times,serif\" font-size=\"14.00\" fill=\"#000000\">samples = 231</text>\n<text text-anchor=\"middle\" x=\"236\" y=\"-183.8\" font-family=\"Times,serif\" font-size=\"14.00\" fill=\"#000000\">value = 23.349</text>\n</g>\n<!-- 1&#45;&gt;2 -->\n<g id=\"edge2\" class=\"edge\">\n<title>1&#45;&gt;2</title>\n<path fill=\"none\" stroke=\"#000000\" d=\"M369.4455,-280.8078C346.302,-268.5276 320.1104,-254.63 297.0979,-242.4193\"/>\n<polygon fill=\"#000000\" stroke=\"#000000\" points=\"298.5903,-239.249 288.1162,-237.6535 295.3092,-245.4324 298.5903,-239.249\"/>\n</g>\n<!-- 13 -->\n<g id=\"node10\" class=\"node\">\n<title>13</title>\n<polygon fill=\"#fcf0e7\" stroke=\"#000000\" points=\"485,-244 379,-244 379,-176 485,-176 485,-244\"/>\n<text text-anchor=\"middle\" x=\"432\" y=\"-228.8\" font-family=\"Times,serif\" font-size=\"14.00\" fill=\"#000000\">NOX &lt;= 0.603</text>\n<text text-anchor=\"middle\" x=\"432\" y=\"-213.8\" font-family=\"Times,serif\" font-size=\"14.00\" fill=\"#000000\">mse = 19.068</text>\n<text text-anchor=\"middle\" x=\"432\" y=\"-198.8\" font-family=\"Times,serif\" font-size=\"14.00\" fill=\"#000000\">samples = 153</text>\n<text text-anchor=\"middle\" x=\"432\" y=\"-183.8\" font-family=\"Times,serif\" font-size=\"14.00\" fill=\"#000000\">value = 14.801</text>\n</g>\n<!-- 1&#45;&gt;13 -->\n<g id=\"edge9\" class=\"edge\">\n<title>1&#45;&gt;13</title>\n<path fill=\"none\" stroke=\"#000000\" d=\"M432,-279.9465C432,-271.776 432,-262.9318 432,-254.3697\"/>\n<polygon fill=\"#000000\" stroke=\"#000000\" points=\"435.5001,-254.13 432,-244.13 428.5001,-254.13 435.5001,-254.13\"/>\n</g>\n<!-- 3 -->\n<g id=\"node4\" class=\"node\">\n<title>3</title>\n<polygon fill=\"#e88f4f\" stroke=\"#000000\" points=\"158,-140 40,-140 40,-72 158,-72 158,-140\"/>\n<text text-anchor=\"middle\" x=\"99\" y=\"-124.8\" font-family=\"Times,serif\" font-size=\"14.00\" fill=\"#000000\">LSTAT &lt;= 10.83</text>\n<text text-anchor=\"middle\" x=\"99\" y=\"-109.8\" font-family=\"Times,serif\" font-size=\"14.00\" fill=\"#000000\">mse = 78.146</text>\n<text text-anchor=\"middle\" x=\"99\" y=\"-94.8\" font-family=\"Times,serif\" font-size=\"14.00\" fill=\"#000000\">samples = 5</text>\n<text text-anchor=\"middle\" x=\"99\" y=\"-79.8\" font-family=\"Times,serif\" font-size=\"14.00\" fill=\"#000000\">value = 45.58</text>\n</g>\n<!-- 2&#45;&gt;3 -->\n<g id=\"edge3\" class=\"edge\">\n<title>2&#45;&gt;3</title>\n<path fill=\"none\" stroke=\"#000000\" d=\"M191.1411,-175.9465C178.7222,-166.519 165.1217,-156.1946 152.2739,-146.4415\"/>\n<polygon fill=\"#000000\" stroke=\"#000000\" points=\"154.041,-143.3887 143.9597,-140.13 149.8085,-148.9642 154.041,-143.3887\"/>\n</g>\n<!-- 6 -->\n<g id=\"node7\" class=\"node\">\n<title>6</title>\n<polygon fill=\"#f7d7bf\" stroke=\"#000000\" points=\"288,-140 184,-140 184,-72 288,-72 288,-140\"/>\n<text text-anchor=\"middle\" x=\"236\" y=\"-124.8\" font-family=\"Times,serif\" font-size=\"14.00\" fill=\"#000000\">RM &lt;= 6.543</text>\n<text text-anchor=\"middle\" x=\"236\" y=\"-109.8\" font-family=\"Times,serif\" font-size=\"14.00\" fill=\"#000000\">mse = 14.906</text>\n<text text-anchor=\"middle\" x=\"236\" y=\"-94.8\" font-family=\"Times,serif\" font-size=\"14.00\" fill=\"#000000\">samples = 226</text>\n<text text-anchor=\"middle\" x=\"236\" y=\"-79.8\" font-family=\"Times,serif\" font-size=\"14.00\" fill=\"#000000\">value = 22.858</text>\n</g>\n<!-- 2&#45;&gt;6 -->\n<g id=\"edge6\" class=\"edge\">\n<title>2&#45;&gt;6</title>\n<path fill=\"none\" stroke=\"#000000\" d=\"M236,-175.9465C236,-167.776 236,-158.9318 236,-150.3697\"/>\n<polygon fill=\"#000000\" stroke=\"#000000\" points=\"239.5001,-150.13 236,-140.13 232.5001,-150.13 239.5001,-150.13\"/>\n</g>\n<!-- 4 -->\n<g id=\"node5\" class=\"node\">\n<title>4</title>\n<polygon fill=\"#c0c0c0\" stroke=\"#000000\" points=\"54,-36 0,-36 0,0 54,0 54,-36\"/>\n<text text-anchor=\"middle\" x=\"27\" y=\"-14.3\" font-family=\"Times,serif\" font-size=\"14.00\" fill=\"#000000\">(...)</text>\n</g>\n<!-- 3&#45;&gt;4 -->\n<g id=\"edge4\" class=\"edge\">\n<title>3&#45;&gt;4</title>\n<path fill=\"none\" stroke=\"#000000\" d=\"M71.1629,-71.9769C63.6059,-62.7406 55.5424,-52.8851 48.4014,-44.1573\"/>\n<polygon fill=\"#000000\" stroke=\"#000000\" points=\"50.9256,-41.7152 41.8843,-36.192 45.5079,-46.1479 50.9256,-41.7152\"/>\n</g>\n<!-- 5 -->\n<g id=\"node6\" class=\"node\">\n<title>5</title>\n<polygon fill=\"#c0c0c0\" stroke=\"#000000\" points=\"126,-36 72,-36 72,0 126,0 126,-36\"/>\n<text text-anchor=\"middle\" x=\"99\" y=\"-14.3\" font-family=\"Times,serif\" font-size=\"14.00\" fill=\"#000000\">(...)</text>\n</g>\n<!-- 3&#45;&gt;5 -->\n<g id=\"edge5\" class=\"edge\">\n<title>3&#45;&gt;5</title>\n<path fill=\"none\" stroke=\"#000000\" d=\"M99,-71.9769C99,-63.5023 99,-54.5065 99,-46.3388\"/>\n<polygon fill=\"#000000\" stroke=\"#000000\" points=\"102.5001,-46.1919 99,-36.192 95.5001,-46.192 102.5001,-46.1919\"/>\n</g>\n<!-- 7 -->\n<g id=\"node8\" class=\"node\">\n<title>7</title>\n<polygon fill=\"#c0c0c0\" stroke=\"#000000\" points=\"198,-36 144,-36 144,0 198,0 198,-36\"/>\n<text text-anchor=\"middle\" x=\"171\" y=\"-14.3\" font-family=\"Times,serif\" font-size=\"14.00\" fill=\"#000000\">(...)</text>\n</g>\n<!-- 6&#45;&gt;7 -->\n<g id=\"edge7\" class=\"edge\">\n<title>6&#45;&gt;7</title>\n<path fill=\"none\" stroke=\"#000000\" d=\"M210.8693,-71.9769C204.1174,-62.8358 196.9175,-53.0883 190.5204,-44.4276\"/>\n<polygon fill=\"#000000\" stroke=\"#000000\" points=\"193.1939,-42.1561 184.4372,-36.192 187.5633,-46.3151 193.1939,-42.1561\"/>\n</g>\n<!-- 10 -->\n<g id=\"node9\" class=\"node\">\n<title>10</title>\n<polygon fill=\"#c0c0c0\" stroke=\"#000000\" points=\"270,-36 216,-36 216,0 270,0 270,-36\"/>\n<text text-anchor=\"middle\" x=\"243\" y=\"-14.3\" font-family=\"Times,serif\" font-size=\"14.00\" fill=\"#000000\">(...)</text>\n</g>\n<!-- 6&#45;&gt;10 -->\n<g id=\"edge8\" class=\"edge\">\n<title>6&#45;&gt;10</title>\n<path fill=\"none\" stroke=\"#000000\" d=\"M238.7064,-71.9769C239.3805,-63.5023 240.0961,-54.5065 240.7458,-46.3388\"/>\n<polygon fill=\"#000000\" stroke=\"#000000\" points=\"244.2489,-46.438 241.5529,-36.192 237.2709,-45.8829 244.2489,-46.438\"/>\n</g>\n<!-- 14 -->\n<g id=\"node11\" class=\"node\">\n<title>14</title>\n<polygon fill=\"#fae6d8\" stroke=\"#000000\" points=\"419.5,-140 308.5,-140 308.5,-72 419.5,-72 419.5,-140\"/>\n<text text-anchor=\"middle\" x=\"364\" y=\"-124.8\" font-family=\"Times,serif\" font-size=\"14.00\" fill=\"#000000\">CRIM &lt;= 0.554</text>\n<text text-anchor=\"middle\" x=\"364\" y=\"-109.8\" font-family=\"Times,serif\" font-size=\"14.00\" fill=\"#000000\">mse = 13.155</text>\n<text text-anchor=\"middle\" x=\"364\" y=\"-94.8\" font-family=\"Times,serif\" font-size=\"14.00\" fill=\"#000000\">samples = 58</text>\n<text text-anchor=\"middle\" x=\"364\" y=\"-79.8\" font-family=\"Times,serif\" font-size=\"14.00\" fill=\"#000000\">value = 17.981</text>\n</g>\n<!-- 13&#45;&gt;14 -->\n<g id=\"edge10\" class=\"edge\">\n<title>13&#45;&gt;14</title>\n<path fill=\"none\" stroke=\"#000000\" d=\"M409.7343,-175.9465C404.0398,-167.2373 397.8448,-157.7626 391.9062,-148.6801\"/>\n<polygon fill=\"#000000\" stroke=\"#000000\" points=\"394.7177,-146.5843 386.3158,-140.13 388.8589,-150.4151 394.7177,-146.5843\"/>\n</g>\n<!-- 21 -->\n<g id=\"node14\" class=\"node\">\n<title>21</title>\n<polygon fill=\"#fdf6f1\" stroke=\"#000000\" points=\"562.5,-140 437.5,-140 437.5,-72 562.5,-72 562.5,-140\"/>\n<text text-anchor=\"middle\" x=\"500\" y=\"-124.8\" font-family=\"Times,serif\" font-size=\"14.00\" fill=\"#000000\">LSTAT &lt;= 19.645</text>\n<text text-anchor=\"middle\" x=\"500\" y=\"-109.8\" font-family=\"Times,serif\" font-size=\"14.00\" fill=\"#000000\">mse = 12.737</text>\n<text text-anchor=\"middle\" x=\"500\" y=\"-94.8\" font-family=\"Times,serif\" font-size=\"14.00\" fill=\"#000000\">samples = 95</text>\n<text text-anchor=\"middle\" x=\"500\" y=\"-79.8\" font-family=\"Times,serif\" font-size=\"14.00\" fill=\"#000000\">value = 12.86</text>\n</g>\n<!-- 13&#45;&gt;21 -->\n<g id=\"edge13\" class=\"edge\">\n<title>13&#45;&gt;21</title>\n<path fill=\"none\" stroke=\"#000000\" d=\"M454.2657,-175.9465C459.9602,-167.2373 466.1552,-157.7626 472.0938,-148.6801\"/>\n<polygon fill=\"#000000\" stroke=\"#000000\" points=\"475.1411,-150.4151 477.6842,-140.13 469.2823,-146.5843 475.1411,-150.4151\"/>\n</g>\n<!-- 15 -->\n<g id=\"node12\" class=\"node\">\n<title>15</title>\n<polygon fill=\"#c0c0c0\" stroke=\"#000000\" points=\"342,-36 288,-36 288,0 342,0 342,-36\"/>\n<text text-anchor=\"middle\" x=\"315\" y=\"-14.3\" font-family=\"Times,serif\" font-size=\"14.00\" fill=\"#000000\">(...)</text>\n</g>\n<!-- 14&#45;&gt;15 -->\n<g id=\"edge11\" class=\"edge\">\n<title>14&#45;&gt;15</title>\n<path fill=\"none\" stroke=\"#000000\" d=\"M345.0553,-71.9769C340.0714,-63.0262 334.7638,-53.4941 330.0175,-44.9703\"/>\n<polygon fill=\"#000000\" stroke=\"#000000\" points=\"333.0524,-43.2261 325.1296,-36.192 326.9366,-46.6316 333.0524,-43.2261\"/>\n</g>\n<!-- 18 -->\n<g id=\"node13\" class=\"node\">\n<title>18</title>\n<polygon fill=\"#c0c0c0\" stroke=\"#000000\" points=\"414,-36 360,-36 360,0 414,0 414,-36\"/>\n<text text-anchor=\"middle\" x=\"387\" y=\"-14.3\" font-family=\"Times,serif\" font-size=\"14.00\" fill=\"#000000\">(...)</text>\n</g>\n<!-- 14&#45;&gt;18 -->\n<g id=\"edge12\" class=\"edge\">\n<title>14&#45;&gt;18</title>\n<path fill=\"none\" stroke=\"#000000\" d=\"M372.8924,-71.9769C375.1322,-63.4071 377.5114,-54.3043 379.6651,-46.0638\"/>\n<polygon fill=\"#000000\" stroke=\"#000000\" points=\"383.1028,-46.752 382.2453,-36.192 376.3303,-44.9819 383.1028,-46.752\"/>\n</g>\n<!-- 22 -->\n<g id=\"node15\" class=\"node\">\n<title>22</title>\n<polygon fill=\"#c0c0c0\" stroke=\"#000000\" points=\"486,-36 432,-36 432,0 486,0 486,-36\"/>\n<text text-anchor=\"middle\" x=\"459\" y=\"-14.3\" font-family=\"Times,serif\" font-size=\"14.00\" fill=\"#000000\">(...)</text>\n</g>\n<!-- 21&#45;&gt;22 -->\n<g id=\"edge14\" class=\"edge\">\n<title>21&#45;&gt;22</title>\n<path fill=\"none\" stroke=\"#000000\" d=\"M484.1483,-71.9769C480.0669,-63.2167 475.7259,-53.8995 471.8198,-45.5157\"/>\n<polygon fill=\"#000000\" stroke=\"#000000\" points=\"474.8716,-43.7783 467.4758,-36.192 468.5265,-46.7346 474.8716,-43.7783\"/>\n</g>\n<!-- 25 -->\n<g id=\"node16\" class=\"node\">\n<title>25</title>\n<polygon fill=\"#c0c0c0\" stroke=\"#000000\" points=\"558,-36 504,-36 504,0 558,0 558,-36\"/>\n<text text-anchor=\"middle\" x=\"531\" y=\"-14.3\" font-family=\"Times,serif\" font-size=\"14.00\" fill=\"#000000\">(...)</text>\n</g>\n<!-- 21&#45;&gt;25 -->\n<g id=\"edge15\" class=\"edge\">\n<title>21&#45;&gt;25</title>\n<path fill=\"none\" stroke=\"#000000\" d=\"M511.9854,-71.9769C515.0379,-63.3119 518.2823,-54.102 521.2105,-45.7894\"/>\n<polygon fill=\"#000000\" stroke=\"#000000\" points=\"524.57,-46.7868 524.5915,-36.192 517.9677,-44.4609 524.57,-46.7868\"/>\n</g>\n<!-- 29 -->\n<g id=\"node18\" class=\"node\">\n<title>29</title>\n<polygon fill=\"#f1b991\" stroke=\"#000000\" points=\"748.5,-244 637.5,-244 637.5,-176 748.5,-176 748.5,-244\"/>\n<text text-anchor=\"middle\" x=\"693\" y=\"-228.8\" font-family=\"Times,serif\" font-size=\"14.00\" fill=\"#000000\">CRIM &lt;= 7.393</text>\n<text text-anchor=\"middle\" x=\"693\" y=\"-213.8\" font-family=\"Times,serif\" font-size=\"14.00\" fill=\"#000000\">mse = 43.338</text>\n<text text-anchor=\"middle\" x=\"693\" y=\"-198.8\" font-family=\"Times,serif\" font-size=\"14.00\" fill=\"#000000\">samples = 42</text>\n<text text-anchor=\"middle\" x=\"693\" y=\"-183.8\" font-family=\"Times,serif\" font-size=\"14.00\" fill=\"#000000\">value = 32.176</text>\n</g>\n<!-- 28&#45;&gt;29 -->\n<g id=\"edge17\" class=\"edge\">\n<title>28&#45;&gt;29</title>\n<path fill=\"none\" stroke=\"#000000\" d=\"M693,-279.9465C693,-271.776 693,-262.9318 693,-254.3697\"/>\n<polygon fill=\"#000000\" stroke=\"#000000\" points=\"696.5001,-254.13 693,-244.13 689.5001,-254.13 696.5001,-254.13\"/>\n</g>\n<!-- 42 -->\n<g id=\"node25\" class=\"node\">\n<title>42</title>\n<polygon fill=\"#e89152\" stroke=\"#000000\" points=\"943,-244 839,-244 839,-176 943,-176 943,-244\"/>\n<text text-anchor=\"middle\" x=\"891\" y=\"-228.8\" font-family=\"Times,serif\" font-size=\"14.00\" fill=\"#000000\">TAX &lt;= 534.5</text>\n<text text-anchor=\"middle\" x=\"891\" y=\"-213.8\" font-family=\"Times,serif\" font-size=\"14.00\" fill=\"#000000\">mse = 37.034</text>\n<text text-anchor=\"middle\" x=\"891\" y=\"-198.8\" font-family=\"Times,serif\" font-size=\"14.00\" fill=\"#000000\">samples = 29</text>\n<text text-anchor=\"middle\" x=\"891\" y=\"-183.8\" font-family=\"Times,serif\" font-size=\"14.00\" fill=\"#000000\">value = 44.928</text>\n</g>\n<!-- 28&#45;&gt;42 -->\n<g id=\"edge24\" class=\"edge\">\n<title>28&#45;&gt;42</title>\n<path fill=\"none\" stroke=\"#000000\" d=\"M745.0222,-286.6752C771.0663,-272.9955 802.7572,-256.3497 829.9479,-242.0678\"/>\n<polygon fill=\"#000000\" stroke=\"#000000\" points=\"831.7564,-245.0714 838.9819,-237.3227 828.5013,-238.8742 831.7564,-245.0714\"/>\n</g>\n<!-- 30 -->\n<g id=\"node19\" class=\"node\">\n<title>30</title>\n<polygon fill=\"#f0b58a\" stroke=\"#000000\" points=\"686,-140 582,-140 582,-72 686,-72 686,-140\"/>\n<text text-anchor=\"middle\" x=\"634\" y=\"-124.8\" font-family=\"Times,serif\" font-size=\"14.00\" fill=\"#000000\">DIS &lt;= 1.886</text>\n<text text-anchor=\"middle\" x=\"634\" y=\"-109.8\" font-family=\"Times,serif\" font-size=\"14.00\" fill=\"#000000\">mse = 19.779</text>\n<text text-anchor=\"middle\" x=\"634\" y=\"-94.8\" font-family=\"Times,serif\" font-size=\"14.00\" fill=\"#000000\">samples = 39</text>\n<text text-anchor=\"middle\" x=\"634\" y=\"-79.8\" font-family=\"Times,serif\" font-size=\"14.00\" fill=\"#000000\">value = 33.544</text>\n</g>\n<!-- 29&#45;&gt;30 -->\n<g id=\"edge18\" class=\"edge\">\n<title>29&#45;&gt;30</title>\n<path fill=\"none\" stroke=\"#000000\" d=\"M673.6812,-175.9465C668.7913,-167.3271 663.4761,-157.9579 658.3722,-148.9611\"/>\n<polygon fill=\"#000000\" stroke=\"#000000\" points=\"661.3408,-147.1008 653.3622,-140.13 655.2524,-150.5549 661.3408,-147.1008\"/>\n</g>\n<!-- 37 -->\n<g id=\"node22\" class=\"node\">\n<title>37</title>\n<polygon fill=\"#fcf1e9\" stroke=\"#000000\" points=\"801.5,-140 704.5,-140 704.5,-72 801.5,-72 801.5,-140\"/>\n<text text-anchor=\"middle\" x=\"753\" y=\"-124.8\" font-family=\"Times,serif\" font-size=\"14.00\" fill=\"#000000\">RM &lt;= 7.141</text>\n<text text-anchor=\"middle\" x=\"753\" y=\"-109.8\" font-family=\"Times,serif\" font-size=\"14.00\" fill=\"#000000\">mse = 9.307</text>\n<text text-anchor=\"middle\" x=\"753\" y=\"-94.8\" font-family=\"Times,serif\" font-size=\"14.00\" fill=\"#000000\">samples = 3</text>\n<text text-anchor=\"middle\" x=\"753\" y=\"-79.8\" font-family=\"Times,serif\" font-size=\"14.00\" fill=\"#000000\">value = 14.4</text>\n</g>\n<!-- 29&#45;&gt;37 -->\n<g id=\"edge21\" class=\"edge\">\n<title>29&#45;&gt;37</title>\n<path fill=\"none\" stroke=\"#000000\" d=\"M712.6462,-175.9465C717.619,-167.3271 723.0243,-157.9579 728.2148,-148.9611\"/>\n<polygon fill=\"#000000\" stroke=\"#000000\" points=\"731.344,-150.5409 733.3096,-140.13 725.2807,-147.0428 731.344,-150.5409\"/>\n</g>\n<!-- 31 -->\n<g id=\"node20\" class=\"node\">\n<title>31</title>\n<polygon fill=\"#c0c0c0\" stroke=\"#000000\" points=\"630,-36 576,-36 576,0 630,0 630,-36\"/>\n<text text-anchor=\"middle\" x=\"603\" y=\"-14.3\" font-family=\"Times,serif\" font-size=\"14.00\" fill=\"#000000\">(...)</text>\n</g>\n<!-- 30&#45;&gt;31 -->\n<g id=\"edge19\" class=\"edge\">\n<title>30&#45;&gt;31</title>\n<path fill=\"none\" stroke=\"#000000\" d=\"M622.0146,-71.9769C618.9621,-63.3119 615.7177,-54.102 612.7895,-45.7894\"/>\n<polygon fill=\"#000000\" stroke=\"#000000\" points=\"616.0323,-44.4609 609.4085,-36.192 609.43,-46.7868 616.0323,-44.4609\"/>\n</g>\n<!-- 34 -->\n<g id=\"node21\" class=\"node\">\n<title>34</title>\n<polygon fill=\"#c0c0c0\" stroke=\"#000000\" points=\"702,-36 648,-36 648,0 702,0 702,-36\"/>\n<text text-anchor=\"middle\" x=\"675\" y=\"-14.3\" font-family=\"Times,serif\" font-size=\"14.00\" fill=\"#000000\">(...)</text>\n</g>\n<!-- 30&#45;&gt;34 -->\n<g id=\"edge20\" class=\"edge\">\n<title>30&#45;&gt;34</title>\n<path fill=\"none\" stroke=\"#000000\" d=\"M649.8517,-71.9769C653.9331,-63.2167 658.2741,-53.8995 662.1802,-45.5157\"/>\n<polygon fill=\"#000000\" stroke=\"#000000\" points=\"665.4735,-46.7346 666.5242,-36.192 659.1284,-43.7783 665.4735,-46.7346\"/>\n</g>\n<!-- 38 -->\n<g id=\"node23\" class=\"node\">\n<title>38</title>\n<polygon fill=\"#c0c0c0\" stroke=\"#000000\" points=\"774,-36 720,-36 720,0 774,0 774,-36\"/>\n<text text-anchor=\"middle\" x=\"747\" y=\"-14.3\" font-family=\"Times,serif\" font-size=\"14.00\" fill=\"#000000\">(...)</text>\n</g>\n<!-- 37&#45;&gt;38 -->\n<g id=\"edge22\" class=\"edge\">\n<title>37&#45;&gt;38</title>\n<path fill=\"none\" stroke=\"#000000\" d=\"M750.6802,-71.9769C750.1024,-63.5023 749.4891,-54.5065 748.9322,-46.3388\"/>\n<polygon fill=\"#000000\" stroke=\"#000000\" points=\"752.4126,-45.9307 748.2404,-36.192 745.4288,-46.4069 752.4126,-45.9307\"/>\n</g>\n<!-- 39 -->\n<g id=\"node24\" class=\"node\">\n<title>39</title>\n<polygon fill=\"#c0c0c0\" stroke=\"#000000\" points=\"846,-36 792,-36 792,0 846,0 846,-36\"/>\n<text text-anchor=\"middle\" x=\"819\" y=\"-14.3\" font-family=\"Times,serif\" font-size=\"14.00\" fill=\"#000000\">(...)</text>\n</g>\n<!-- 37&#45;&gt;39 -->\n<g id=\"edge23\" class=\"edge\">\n<title>37&#45;&gt;39</title>\n<path fill=\"none\" stroke=\"#000000\" d=\"M778.5173,-71.9769C785.3731,-62.8358 792.6838,-53.0883 799.1793,-44.4276\"/>\n<polygon fill=\"#000000\" stroke=\"#000000\" points=\"802.156,-46.292 805.356,-36.192 796.556,-42.092 802.156,-46.292\"/>\n</g>\n<!-- 43 -->\n<g id=\"node26\" class=\"node\">\n<title>43</title>\n<polygon fill=\"#e88e4e\" stroke=\"#000000\" points=\"954.5,-140 827.5,-140 827.5,-72 954.5,-72 954.5,-140\"/>\n<text text-anchor=\"middle\" x=\"891\" y=\"-124.8\" font-family=\"Times,serif\" font-size=\"14.00\" fill=\"#000000\">PTRATIO &lt;= 17.9</text>\n<text text-anchor=\"middle\" x=\"891\" y=\"-109.8\" font-family=\"Times,serif\" font-size=\"14.00\" fill=\"#000000\">mse = 18.742</text>\n<text text-anchor=\"middle\" x=\"891\" y=\"-94.8\" font-family=\"Times,serif\" font-size=\"14.00\" fill=\"#000000\">samples = 28</text>\n<text text-anchor=\"middle\" x=\"891\" y=\"-79.8\" font-family=\"Times,serif\" font-size=\"14.00\" fill=\"#000000\">value = 45.75</text>\n</g>\n<!-- 42&#45;&gt;43 -->\n<g id=\"edge25\" class=\"edge\">\n<title>42&#45;&gt;43</title>\n<path fill=\"none\" stroke=\"#000000\" d=\"M891,-175.9465C891,-167.776 891,-158.9318 891,-150.3697\"/>\n<polygon fill=\"#000000\" stroke=\"#000000\" points=\"894.5001,-150.13 891,-140.13 887.5001,-150.13 894.5001,-150.13\"/>\n</g>\n<!-- 50 -->\n<g id=\"node29\" class=\"node\">\n<title>50</title>\n<polygon fill=\"#f7dac4\" stroke=\"#000000\" points=\"1061.5,-132.5 972.5,-132.5 972.5,-79.5 1061.5,-79.5 1061.5,-132.5\"/>\n<text text-anchor=\"middle\" x=\"1017\" y=\"-117.3\" font-family=\"Times,serif\" font-size=\"14.00\" fill=\"#000000\">mse = &#45;0.0</text>\n<text text-anchor=\"middle\" x=\"1017\" y=\"-102.3\" font-family=\"Times,serif\" font-size=\"14.00\" fill=\"#000000\">samples = 1</text>\n<text text-anchor=\"middle\" x=\"1017\" y=\"-87.3\" font-family=\"Times,serif\" font-size=\"14.00\" fill=\"#000000\">value = 21.9</text>\n</g>\n<!-- 42&#45;&gt;50 -->\n<g id=\"edge28\" class=\"edge\">\n<title>42&#45;&gt;50</title>\n<path fill=\"none\" stroke=\"#000000\" d=\"M932.2571,-175.9465C946.6697,-164.0504 962.8127,-150.726 977.1117,-138.9237\"/>\n<polygon fill=\"#000000\" stroke=\"#000000\" points=\"979.3589,-141.6071 984.8431,-132.5422 974.9029,-136.2086 979.3589,-141.6071\"/>\n</g>\n<!-- 44 -->\n<g id=\"node27\" class=\"node\">\n<title>44</title>\n<polygon fill=\"#c0c0c0\" stroke=\"#000000\" points=\"918,-36 864,-36 864,0 918,0 918,-36\"/>\n<text text-anchor=\"middle\" x=\"891\" y=\"-14.3\" font-family=\"Times,serif\" font-size=\"14.00\" fill=\"#000000\">(...)</text>\n</g>\n<!-- 43&#45;&gt;44 -->\n<g id=\"edge26\" class=\"edge\">\n<title>43&#45;&gt;44</title>\n<path fill=\"none\" stroke=\"#000000\" d=\"M891,-71.9769C891,-63.5023 891,-54.5065 891,-46.3388\"/>\n<polygon fill=\"#000000\" stroke=\"#000000\" points=\"894.5001,-46.1919 891,-36.192 887.5001,-46.192 894.5001,-46.1919\"/>\n</g>\n<!-- 47 -->\n<g id=\"node28\" class=\"node\">\n<title>47</title>\n<polygon fill=\"#c0c0c0\" stroke=\"#000000\" points=\"990,-36 936,-36 936,0 990,0 990,-36\"/>\n<text text-anchor=\"middle\" x=\"963\" y=\"-14.3\" font-family=\"Times,serif\" font-size=\"14.00\" fill=\"#000000\">(...)</text>\n</g>\n<!-- 43&#45;&gt;47 -->\n<g id=\"edge27\" class=\"edge\">\n<title>43&#45;&gt;47</title>\n<path fill=\"none\" stroke=\"#000000\" d=\"M918.8371,-71.9769C926.3941,-62.7406 934.4576,-52.8851 941.5986,-44.1573\"/>\n<polygon fill=\"#000000\" stroke=\"#000000\" points=\"944.4921,-46.1479 948.1157,-36.192 939.0744,-41.7152 944.4921,-46.1479\"/>\n</g>\n</g>\n</svg>\n"
          },
          "metadata": {
            "tags": []
          },
          "execution_count": 39
        }
      ]
    },
    {
      "cell_type": "markdown",
      "metadata": {
        "id": "kNdGOWd4u4Pj"
      },
      "source": [
        "落在哪個區間，回答該區間的平均值"
      ]
    },
    {
      "cell_type": "code",
      "metadata": {
        "id": "63fy-jve3ew2",
        "outputId": "3385e72a-256a-42b6-b8dc-53aec124a938",
        "colab": {
          "base_uri": "https://localhost:8080/",
          "height": 34
        }
      },
      "source": [
        "from sklearn.metrics import r2_score\n",
        "pre=reg.predict(x_test)\n",
        "r2_score(y_test,pre)"
      ],
      "execution_count": null,
      "outputs": [
        {
          "output_type": "execute_result",
          "data": {
            "text/plain": [
              "0.7615125991652162"
            ]
          },
          "metadata": {
            "tags": []
          },
          "execution_count": 40
        }
      ]
    }
  ]
}